{
 "cells": [
  {
   "cell_type": "code",
   "execution_count": 4,
   "metadata": {
    "colab": {},
    "colab_type": "code",
    "id": "7JIFn6BP4M0R"
   },
   "outputs": [
    {
     "name": "stdout",
     "output_type": "stream",
     "text": [
      "True\n",
      "<class 'bool'>\n",
      "140714031098192\n"
     ]
    }
   ],
   "source": [
    "#Declare a boolean value and store it in a variable. \n",
    "\n",
    "x = True\n",
    "print(x)\n",
    "\n",
    "#Check the type and print the id of the same.\n",
    "\n",
    "print(type(x))\n",
    "print(id(x))\n"
   ]
  },
  {
   "cell_type": "code",
   "execution_count": 8,
   "metadata": {
    "colab": {},
    "colab_type": "code",
    "id": "o9bjjhN64kAP"
   },
   "outputs": [
    {
     "name": "stdout",
     "output_type": "stream",
     "text": [
      "True\n",
      "True\n",
      "<class 'int'>\n",
      "140714031620784\n",
      "140714031620784\n"
     ]
    }
   ],
   "source": [
    "#Take one boolean value between 0 - 256.\n",
    "#Assign it to two different variables.\n",
    "\n",
    "a = 10\n",
    "b = 10\n",
    "print(bool(a))\n",
    "print(bool(b))\n",
    "\n",
    "#Check the id of both the variables. It should come same. Check why?\n",
    "\n",
    "print(id(a))\n",
    "print(id(b))\n"
   ]
  },
  {
   "cell_type": "code",
   "execution_count": 19,
   "metadata": {
    "colab": {},
    "colab_type": "code",
    "id": "yr4ETGSf4l5y"
   },
   "outputs": [
    {
     "name": "stdout",
     "output_type": "stream",
     "text": [
      "2\n",
      "0\n",
      "1\n",
      "1.0\n",
      "0\n",
      "1\n",
      "1\n"
     ]
    }
   ],
   "source": [
    "#Arithmatic Operations on boolean data\n",
    "#Take two different boolean values.\n",
    "#Store them in two different variables.\n",
    "\n",
    "m = True\n",
    "n = True\n",
    "\n",
    "#Do below operations on them:-\n",
    "    #Find sum of both values\n",
    "    \n",
    "o = m+n\n",
    "print(o)\n",
    "\n",
    "    #Find differce between them\n",
    "\n",
    "p = m-n\n",
    "print(p)\n",
    "\n",
    "    #Find the product of both.\n",
    "\n",
    "q = m*n\n",
    "print(q)\n",
    "\n",
    "    #Find value after dividing first value with second value\n",
    "    \n",
    "r = m/n\n",
    "print(r)\n",
    "    \n",
    "\n",
    "    \n",
    "    #Find the remainder after dividing first value with second value\n",
    "    \n",
    "s = m%n\n",
    "print(s)\n",
    "    \n",
    "    #Find the quotient after dividing first value with second value\n",
    "    \n",
    "t = m//n\n",
    "print(t)\n",
    "    \n",
    "    #Find the result of first value to the power of second value.\n",
    "    \n",
    "u = m**n\n",
    "print(u)\n"
   ]
  },
  {
   "cell_type": "code",
   "execution_count": 31,
   "metadata": {
    "colab": {},
    "colab_type": "code",
    "id": "xG4mX84E4n2O"
   },
   "outputs": [
    {
     "name": "stdout",
     "output_type": "stream",
     "text": [
      "True\n",
      "False\n",
      "True\n",
      "False\n",
      "False\n"
     ]
    }
   ],
   "source": [
    "#Comparison Operators on boolean values\n",
    "#Take two different boolean values.\n",
    "#Store them in two different variables.\n",
    "\n",
    "x = 10\n",
    "y = 9\n",
    "\n",
    "#Do below operations on them:-\n",
    "    #Compare these two values with below operator:-\n",
    "        #Greater than, '>'\n",
    "if x > y:\n",
    "    print(True)\n",
    "else:\n",
    "    print(False)\n",
    "       \n",
    "\n",
    "        #less than, '<'\n",
    "    \n",
    "if x < y:\n",
    "    print(True)\n",
    "else:\n",
    "    print(False)\n",
    "    \n",
    "    \n",
    "        #Greater than or equal to, '>='\n",
    "\n",
    "if x >= y:\n",
    "    print(True)\n",
    "else:\n",
    "    print(False)\n",
    "    \n",
    "\n",
    "        #Less than or equal to, '<='\n",
    "        \n",
    "if x <= y:\n",
    "    print(True)\n",
    "else:\n",
    "    print(False)\n",
    "\n",
    "\n",
    "#Observe their output(return type should be boolean)\n",
    "\n",
    "if x == y:\n",
    "    print(True)\n",
    "else:\n",
    "    print(False)\n",
    "\n",
    "\n",
    "\n",
    "\n",
    "\n",
    "\n"
   ]
  },
  {
   "cell_type": "code",
   "execution_count": 35,
   "metadata": {
    "colab": {},
    "colab_type": "code",
    "id": "TUIo2Z9V4qBJ"
   },
   "outputs": [
    {
     "name": "stdout",
     "output_type": "stream",
     "text": [
      "True\n",
      "True\n",
      "True\n",
      "True\n"
     ]
    }
   ],
   "source": [
    "#Equality Operator\n",
    "#Take two different boolean values.\n",
    "#Store them in two different variables.\n",
    "\n",
    "a = 12\n",
    "b = 12\n",
    "print(bool(a))\n",
    "print(bool(b))\n",
    "\n",
    "#Equuate them using equality operator (==, !=)\n",
    "\n",
    "if a==b:\n",
    "    print(True)\n",
    "else:\n",
    "    print(False)\n",
    "\n",
    "if a!=b:\n",
    "    print(False)\n",
    "else:\n",
    "    print(True)\n",
    "    \n",
    "\n",
    "#Observe the output(return type should be boolean)\n",
    "\n",
    "if a==b:\n",
    "    print(True)\n",
    "else:\n",
    "    print(False)\n"
   ]
  },
  {
   "cell_type": "code",
   "execution_count": 36,
   "metadata": {
    "colab": {},
    "colab_type": "code",
    "id": "XukEq5E44rxv"
   },
   "outputs": [
    {
     "name": "stdout",
     "output_type": "stream",
     "text": [
      "True\n",
      "False\n",
      "False\n",
      "False\n",
      "True\n",
      "True\n",
      "True\n",
      "False\n",
      "False\n",
      "True\n"
     ]
    }
   ],
   "source": [
    "#Logical operators\n",
    "#Observe the output of below code\n",
    "#Cross check the output manually\n",
    "\n",
    "print(True and True)        #----------------------------------------->Output is True\n",
    "print(False and True)        #----------------------------------------->Output is False\n",
    "print(True and False)        #----------------------------------------->Output is False\n",
    "print(False and False)       #----------------------------------------->Output is False\n",
    "\n",
    "print(True or True)          #----------------------------------------->Output is True\n",
    "print(False or True)         #----------------------------------------->Output is True\n",
    "print(True or False)         #----------------------------------------->Output is True\n",
    "print(False or False)        #----------------------------------------->Output is False\n",
    "\n",
    "print(not True)              #----------------------------------------->Output is False\n",
    "print(not False)             #----------------------------------------->Output is True"
   ]
  },
  {
   "cell_type": "code",
   "execution_count": 42,
   "metadata": {
    "colab": {},
    "colab_type": "code",
    "id": "02jPgt094vK-"
   },
   "outputs": [
    {
     "name": "stdout",
     "output_type": "stream",
     "text": [
      "True\n",
      "True\n",
      "True\n",
      "-2\n",
      "4\n"
     ]
    }
   ],
   "source": [
    "#Bitwise Operators\n",
    "#Do below operations on the values provided below:-\n",
    "    #Bitwise and(&) -----------------------------------------> True, True    -------> Output is True\n",
    "    \n",
    "print(True&True)\n",
    "\n",
    "    #Bitwise or(|)  -----------------------------------------> True, False   -------> Output is True\n",
    "\n",
    "print(True|False)\n",
    "\n",
    "    #Bitwise(^)     -----------------------------------------> True, False   -------> Output is True\n",
    "\n",
    "print(True^False)\n",
    "\n",
    "    #Bitwise negation(~) ------------------------------------> True          -------> Output is -2\n",
    "\n",
    "print(~True)\n",
    "\n",
    "    #Bitwise left shift  ------------------------------------> True,2        -------> Output is 4\n",
    "\n",
    "print(True<<2)\n",
    "\n",
    "    #Bitwise right shift ------------------------------------> True,2        -------> Output is 0\n",
    "\n",
    "print(True>>2)\n",
    "\n",
    "#Cross check the output manually\n",
    "\n"
   ]
  },
  {
   "cell_type": "code",
   "execution_count": 37,
   "metadata": {
    "colab": {},
    "colab_type": "code",
    "id": "cy5i7sWz4v_c"
   },
   "outputs": [
    {
     "name": "stdout",
     "output_type": "stream",
     "text": [
      "True\n",
      "False\n",
      "True\n",
      "False\n"
     ]
    }
   ],
   "source": [
    "#What is the output of expression inside print statement. Cross check before running the program.\n",
    "a = True\n",
    "b = True\n",
    "print(a is b)          #True or False?   # True\n",
    "print(a is not b)      #True or False?   # False\n",
    "\n",
    "a = False\n",
    "b = False\n",
    "print(a is b)          #True or False?   # True\n",
    "print(a is not b)      #True or False?   # False\n"
   ]
  },
  {
   "cell_type": "code",
   "execution_count": 43,
   "metadata": {
    "colab": {},
    "colab_type": "code",
    "id": "AOcPQi8544M-"
   },
   "outputs": [
    {
     "name": "stdout",
     "output_type": "stream",
     "text": [
      "True\n",
      "True\n",
      "True\n",
      "True\n",
      "True\n"
     ]
    }
   ],
   "source": [
    "#Membership operation\n",
    "#in, not in are two membership operators and it returns boolean value\n",
    "\n",
    "print(True in [10,10.20,10+20j,'Python', True])     # True\n",
    "print(False in (10,10.20,10+20j,'Python', False))   # True\n",
    "print(True in {1,2,3, True})                        # True\n",
    "print(True in {True:100, False:200, True:300})      # True\n",
    "print(False in {True:100, False:200, True:300})     # True"
   ]
  }
 ],
 "metadata": {
  "colab": {
   "name": "Boolean_Assignement.ipynb",
   "provenance": []
  },
  "kernelspec": {
   "display_name": "Python 3",
   "language": "python",
   "name": "python3"
  },
  "language_info": {
   "codemirror_mode": {
    "name": "ipython",
    "version": 3
   },
   "file_extension": ".py",
   "mimetype": "text/x-python",
   "name": "python",
   "nbconvert_exporter": "python",
   "pygments_lexer": "ipython3",
   "version": "3.7.6"
  }
 },
 "nbformat": 4,
 "nbformat_minor": 1
}
