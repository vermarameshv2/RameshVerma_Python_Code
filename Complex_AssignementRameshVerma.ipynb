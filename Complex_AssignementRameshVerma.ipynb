{
 "cells": [
  {
   "cell_type": "code",
   "execution_count": 2,
   "metadata": {
    "colab": {},
    "colab_type": "code",
    "id": "JoMbQLjK3uHZ"
   },
   "outputs": [
    {
     "name": "stdout",
     "output_type": "stream",
     "text": [
      "<class 'complex'>\n",
      "1767764224304\n"
     ]
    }
   ],
   "source": [
    "#Declare a complex number and store it in a variable. \n",
    "\n",
    "a = 10+10j\n",
    "\n",
    "#Check the type and print the id of the same.\n",
    "\n",
    "print(type(a))\n",
    "print(id(a))\n"
   ]
  },
  {
   "cell_type": "code",
   "execution_count": 10,
   "metadata": {
    "colab": {},
    "colab_type": "code",
    "id": "6N6Ee4BU33jk"
   },
   "outputs": [
    {
     "name": "stdout",
     "output_type": "stream",
     "text": [
      "a+b= (30+40j)\n",
      "a-b= (10+0j)\n",
      "a*b= (-200+600j)\n",
      "a/b= (1.2-0.4j)\n",
      "a**b= (37828982.14334188-31741838.535116192j)\n"
     ]
    }
   ],
   "source": [
    "#Arithmatic Operations on complex number\n",
    "#Take two different complex number.\n",
    "#Store them in two different variables.\n",
    "a = 20+20j\n",
    "b = 10+20j\n",
    "#Do below operations on them:-\n",
    "    #Find sum of both numbers\n",
    "print(\"a+b=\",a+b)\n",
    "    #Find differce between them\n",
    "print(\"a-b=\",a-b)\n",
    "    #Find the product of both numbers.\n",
    "print(\"a*b=\",a*b)\n",
    "    #Find value after dividing first num with second number\n",
    "print(\"a/b=\",a/b)\n",
    "    #Find the result of first num to the power of second number.\n",
    "print(\"a**b=\",a**b)\n",
    "\n"
   ]
  },
  {
   "cell_type": "code",
   "execution_count": 12,
   "metadata": {
    "colab": {},
    "colab_type": "code",
    "id": "xhkdg7LD352y"
   },
   "outputs": [
    {
     "ename": "TypeError",
     "evalue": "'>=' not supported between instances of 'complex' and 'complex'",
     "output_type": "error",
     "traceback": [
      "\u001b[1;31m---------------------------------------------------------------------------\u001b[0m",
      "\u001b[1;31mTypeError\u001b[0m                                 Traceback (most recent call last)",
      "\u001b[1;32m<ipython-input-12-0f51e31efed0>\u001b[0m in \u001b[0;36m<module>\u001b[1;34m\u001b[0m\n\u001b[0;32m      3\u001b[0m \u001b[0ma\u001b[0m \u001b[1;33m=\u001b[0m \u001b[1;36m20\u001b[0m\u001b[1;33m+\u001b[0m\u001b[1;36m20j\u001b[0m\u001b[1;33m\u001b[0m\u001b[1;33m\u001b[0m\u001b[0m\n\u001b[0;32m      4\u001b[0m \u001b[0mb\u001b[0m \u001b[1;33m=\u001b[0m \u001b[1;36m10\u001b[0m\u001b[1;33m+\u001b[0m\u001b[1;36m20j\u001b[0m\u001b[1;33m\u001b[0m\u001b[1;33m\u001b[0m\u001b[0m\n\u001b[1;32m----> 5\u001b[1;33m \u001b[0mprint\u001b[0m\u001b[1;33m(\u001b[0m\u001b[0ma\u001b[0m\u001b[1;33m>=\u001b[0m\u001b[0mb\u001b[0m\u001b[1;33m)\u001b[0m\u001b[1;33m\u001b[0m\u001b[1;33m\u001b[0m\u001b[0m\n\u001b[0m",
      "\u001b[1;31mTypeError\u001b[0m: '>=' not supported between instances of 'complex' and 'complex'"
     ]
    }
   ],
   "source": [
    "#Comparison Operation not applicable between instance of complex values\n",
    "#Object reusability concept is not applicable on complex numebr\n",
    "a = 20+20j\n",
    "b = 10+20j\n",
    "print(a>=b)\n"
   ]
  },
  {
   "cell_type": "code",
   "execution_count": 14,
   "metadata": {
    "colab": {},
    "colab_type": "code",
    "id": "4lzPH2sb38KM"
   },
   "outputs": [
    {
     "name": "stdout",
     "output_type": "stream",
     "text": [
      "False\n",
      "True\n"
     ]
    }
   ],
   "source": [
    "#Equality Operator\n",
    "#Take two different complex numbers.\n",
    "#Store them in two different variables.\n",
    "a = 20+20j\n",
    "b = 10+20j\n",
    "#Equuate them using equality operator (==, !=)\n",
    "print(a==b)\n",
    "print(a!=b)\n",
    "#Observe the output(return type should be boolean)\n"
   ]
  },
  {
   "cell_type": "code",
   "execution_count": 16,
   "metadata": {
    "colab": {},
    "colab_type": "code",
    "id": "EDEl19UD3_tr"
   },
   "outputs": [
    {
     "name": "stdout",
     "output_type": "stream",
     "text": [
      "(20+30j)\n",
      "0j\n",
      "0j\n",
      "0j\n",
      "(10+20j)\n",
      "(20+30j)\n",
      "(20+30j)\n",
      "0j\n",
      "False\n",
      "True\n"
     ]
    }
   ],
   "source": [
    "#Logical operators\n",
    "#Observe the output of below code\n",
    "#Cross check the output manually\n",
    "\n",
    "print(10+20j and 20+30j)    #20+30j    #----------------------------------------->Output is 20+30j\n",
    "print(0+0j and 20+30j)      #0+0j    #----------------------------------------->Output is 0j\n",
    "print(20+30j and 0+0j)      #0+0j   #----------------------------------------->Output is 0j\n",
    "print(0+0j and 0+0j)        #0+0j   #----------------------------------------->Output is 0j\n",
    "\n",
    "print(10+20j or 20+30j)     #10+20j   #----------------------------------------->Output is 10+20j\n",
    "print(0+0j or 20+30j)       #20+30j   #----------------------------------------->Output is 20+30j\n",
    "print(20+30j or 0+0j)       #20+30j  #----------------------------------------->Output is 20+30j\n",
    "print(0+0j or 0+0j)         #0+0j   #----------------------------------------->Output is 0j\n",
    "\n",
    "print(not 10+20j)           #False   #----------------------------------------->Output is False\n",
    "print(not 0+0j)             #True   #----------------------------------------->Output is True"
   ]
  },
  {
   "cell_type": "code",
   "execution_count": 17,
   "metadata": {
    "colab": {},
    "colab_type": "code",
    "id": "4ifueKbP4Br1"
   },
   "outputs": [
    {
     "name": "stdout",
     "output_type": "stream",
     "text": [
      "False\n",
      "True\n"
     ]
    }
   ],
   "source": [
    "#What is the output of expression inside print statement. Cross check before running the program.\n",
    "a = 10+20j\n",
    "b = 10+20j\n",
    "print(a is b)       #False   #True or False?\n",
    "print(a is not b)   #True   #True or False?\n"
   ]
  },
  {
   "cell_type": "code",
   "execution_count": 18,
   "metadata": {
    "colab": {},
    "colab_type": "code",
    "id": "TxMbr5jQ4Dwl"
   },
   "outputs": [
    {
     "name": "stdout",
     "output_type": "stream",
     "text": [
      "True\n",
      "True\n",
      "True\n",
      "True\n",
      "True\n",
      "True\n"
     ]
    }
   ],
   "source": [
    "#Membership operation\n",
    "#in, not in are two membership operators and it returns boolean value\n",
    "\n",
    "print('2.7' in 'Python2.7.8')                      #True\n",
    "print(10+20j in [10,10.20,10+20j,'Python'])        #True\n",
    "print(10+20j in (10,10.20,10+20j,'Python'))        #True\n",
    "print(30+40j in {1,20.30,30+40j})                  #True\n",
    "print(30+40j in {1:100, 2.3:200, 30+40j:300})      #True\n",
    "print(10 in range(20))                             #True"
   ]
  }
 ],
 "metadata": {
  "colab": {
   "name": "Complex_Assignement.ipynb",
   "provenance": []
  },
  "kernelspec": {
   "display_name": "Python 3",
   "language": "python",
   "name": "python3"
  },
  "language_info": {
   "codemirror_mode": {
    "name": "ipython",
    "version": 3
   },
   "file_extension": ".py",
   "mimetype": "text/x-python",
   "name": "python",
   "nbconvert_exporter": "python",
   "pygments_lexer": "ipython3",
   "version": "3.7.6"
  }
 },
 "nbformat": 4,
 "nbformat_minor": 1
}
