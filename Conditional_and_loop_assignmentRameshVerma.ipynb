{
 "cells": [
  {
   "cell_type": "markdown",
   "metadata": {
    "colab_type": "text",
    "id": "wNRNTbrsc53d"
   },
   "source": [
    "# If - elif - else statement"
   ]
  },
  {
   "cell_type": "code",
   "execution_count": 11,
   "metadata": {
    "colab": {},
    "colab_type": "code",
    "id": "MiPfTnBycxNa"
   },
   "outputs": [
    {
     "name": "stdout",
     "output_type": "stream",
     "text": [
      "Enter Number between 0 to 9 =0\n",
      "0 = Zero\n"
     ]
    }
   ],
   "source": [
    "#W. A P. which takes one number from 0 to 9 from the user and prints it in the word. And if the word is not from 0 to 9 then\n",
    "#it should print that number is outside of the range and program should exit.\n",
    "# For exapmple:- \n",
    "# input = 1\n",
    "# output = one\n",
    "\n",
    "num = int(input(\"Enter Number between 0 to 9 =\"))\n",
    "if num == 0:\n",
    "    print(f'{num} = Zero')\n",
    "elif num == 1:\n",
    "    print(f'{num} = One')\n",
    "elif num == 2:\n",
    "    print(f'{num} = Two')\n",
    "elif num == 3:\n",
    "    print(f'{num} = Three')\n",
    "elif num == 4:\n",
    "    print(f'{num} = Four')\n",
    "elif num == 5:\n",
    "    print(f'{num} = Five')\n",
    "elif num == 6:\n",
    "    print(f'{num} = Six')\n",
    "elif num == 7:\n",
    "    print(f'{num} = Seven')\n",
    "elif num == 8:\n",
    "    print(f'{num} = Eight')\n",
    "elif num == 9:\n",
    "    print(f'{num} = Nine')\n",
    "else:\n",
    "    print(f'{num} is out of range')"
   ]
  },
  {
   "cell_type": "code",
   "execution_count": 33,
   "metadata": {
    "colab": {},
    "colab_type": "code",
    "id": "vEMNOv9zdA39"
   },
   "outputs": [
    {
     "name": "stdout",
     "output_type": "stream",
     "text": [
      "Enter first number =8\n",
      "Enter Second number =8\n",
      "Enter the option Number =8\n",
      "16 Come out of the program\n"
     ]
    }
   ],
   "source": [
    "#W. A P. to implement calculator but the operation to be done and two numbers will be taken as input from user:-\n",
    "#Operation console should show below:-\n",
    "#     Please select any one operation from below:-\n",
    "#         * To add enter 1\n",
    "#         * to subtract enter 2\n",
    "#         * To multiply enter 3\n",
    "#         * To divide enter 4\n",
    "#         * To divide and find quotient enter 5\n",
    "#         * To divide and find remainder enter 6\n",
    "#         * To divide and find num1 to the power of num2 enter 7\n",
    "#         * To Come out of the program enter 8\n",
    "\n",
    "a = int(input(\"Enter first number =\"))\n",
    "b = int(input(\"Enter Second number =\"))\n",
    "c = int(input(\"Enter the option Number =\"))\n",
    "if c == 1:\n",
    "    print(f'Addtion of two number ={a+b}')\n",
    "elif c == 2:\n",
    "    if a>=b:\n",
    "        print(f'Substraction of two number ={a-b}')\n",
    "    else:\n",
    "        print(f'Substraction of two number ={b-a}')\n",
    "              \n",
    "elif c == 3:\n",
    "        print(f'Multiplication of two number ={a*b}')\n",
    "elif c == 4:\n",
    "        if a>=b:\n",
    "              print(f'Divide of two number ={a/b}')\n",
    "        else:\n",
    "              print(f'Divide of two number ={b/a}')\n",
    "elif c == 5:\n",
    "        print(f'divide and find quotient of two number ={a%b}')\n",
    "if c == 6:\n",
    "        print(f'divide and find remainder of two number ={a//b}')\n",
    "if c == 7:\n",
    "        print(f'divide and find num1 to the power of num2 ={a**b}')\n",
    "if c == 8:\n",
    "        print(f'{a+b} Come out of the program')\n"
   ]
  },
  {
   "cell_type": "code",
   "execution_count": 3,
   "metadata": {
    "colab": {},
    "colab_type": "code",
    "id": "1e2gwYLqdC1s"
   },
   "outputs": [
    {
     "name": "stdout",
     "output_type": "stream",
     "text": [
      "Enter Year to Leap year = 2000\n",
      "2000 is a leap year\n"
     ]
    }
   ],
   "source": [
    "#W A P to check whether a year entered by user is an leap year or not?\n",
    "#Check with below input:-\n",
    "    #leap year:- 2012, 1968, 2004, 1200, 1600,2400\n",
    "    #Non-lear year:- 1971, 2006, 1700,1800,1900\n",
    "year = int(input(\"Enter Year to Leap year = \"))\n",
    "if (year % 400 == 0 or (year % 4 ==0 and year % 100 != 0)):\n",
    "    print(f'{year} is a leap year')\n",
    "else:\n",
    "    print(f'{year} is not a leap year')\n",
    "    \n",
    "          \n"
   ]
  },
  {
   "cell_type": "code",
   "execution_count": 8,
   "metadata": {
    "colab": {},
    "colab_type": "code",
    "id": "_tpXv1EtdEre"
   },
   "outputs": [
    {
     "name": "stdout",
     "output_type": "stream",
     "text": [
      "Enter a number to check Even or Odd = 4\n",
      "4 is a Even number\n"
     ]
    }
   ],
   "source": [
    "#W A P which takes one number from the user and checks whether it is an even or odd number?, \n",
    "# If it even then prints number is even number else prints that number is odd number.\n",
    "num = int(input(\"Enter a number to check Even or Odd = \"))\n",
    "if num%2==0:\n",
    "    print(f'{num} is a Even number')\n",
    "else:\n",
    "    print(f'{num} is a Odd number')\n"
   ]
  },
  {
   "cell_type": "code",
   "execution_count": 13,
   "metadata": {
    "colab": {},
    "colab_type": "code",
    "id": "Q1HumymCdG6i"
   },
   "outputs": [
    {
     "name": "stdout",
     "output_type": "stream",
     "text": [
      "Enter First Number = 45\n",
      "Enter Second Number = 44\n",
      "45 num1 is greater than num2\n"
     ]
    }
   ],
   "source": [
    "#W A P which takes two numbers from the user and prints below output:-\n",
    "#     1. num1 is greater than num2 if num1 is greater than num2\n",
    "#     2. num1 is smaller than num2 if num1 is smaller than num2\n",
    "#     3. num1 is equal to num2 if num1 and num2 are equal\n",
    "\n",
    "#Note:- 1. Do this problem using if - else \n",
    "#       2. Do this using ternary operator\n",
    "\n",
    "num1 = int(input(\"Enter First Number = \"))\n",
    "num2 = int(input(\"Enter Second Number = \"))\n",
    "if num1 == num2:\n",
    "    print('num1 and num2 is equal')\n",
    "elif num1 > num2:\n",
    "    print(f'{num1} num1 is greater than num2')\n",
    "else:\n",
    "    print(f'{num1} is smaller than num2')\n",
    "    \n",
    "    "
   ]
  },
  {
   "cell_type": "code",
   "execution_count": 25,
   "metadata": {
    "colab": {},
    "colab_type": "code",
    "id": "LR6TVB-DdOPf"
   },
   "outputs": [
    {
     "name": "stdout",
     "output_type": "stream",
     "text": [
      "enter Number1 = 44\n",
      "enter Number2 = 45\n",
      "enter Number3 = 43\n",
      "Number2= 45 is greater than number1 and number3.\n"
     ]
    }
   ],
   "source": [
    "#W A P which takes three numbers from the user and prints below output:-\n",
    "#     1. num1 is greater than num2 and num3 if num1 is greater than num2 and num3\n",
    "#     2. num2 is greater than num1 and num3 if num2 is greater than num1 and num3\n",
    "#     3. num3 is greater than num1 and num2 if num3 is greater than num1 and num2\n",
    "\n",
    "#Note:- 1. Do this problem using if - elif - else \n",
    "#       2. Do this using ternary operator\n",
    "\n",
    "# a = a if a>b else b\n",
    "# expr if cond1 else expr2 if cond2 else expr3\n",
    "num1 = int(input(\"enter Number1 = \"))\n",
    "num2 = int(input(\"enter Number2 = \"))\n",
    "num3 = int(input(\"enter Number3 = \"))\n",
    "if num1 == num2 and num1 == num3 and num2 == num3:\n",
    "    print(\"All three number is equal\")\n",
    "elif (num1 > num2 and num1 > num3):\n",
    "    print(f'Number1= {num1} is greater than number2 and number3.')\n",
    "elif(num2 > num1 and num2 > num3):\n",
    "    print(f'Number2= {num2} is greater than number1 and number3.')\n",
    "elif(num3 > num1 and num3 > num2):\n",
    "    print(f'Number3= {num3} is greater than number1 and number2.')\n",
    "else:\n",
    "    print(\"Any two number is Equal\")\n"
   ]
  },
  {
   "cell_type": "markdown",
   "metadata": {
    "colab_type": "text",
    "id": "IoOLQMUGdSox"
   },
   "source": [
    "# Loops - for loop, while loop"
   ]
  },
  {
   "cell_type": "code",
   "execution_count": 42,
   "metadata": {
    "colab": {},
    "colab_type": "code",
    "id": "9K23Uld8dQfA"
   },
   "outputs": [
    {
     "name": "stdout",
     "output_type": "stream",
     "text": [
      "String Length = 55\n"
     ]
    }
   ],
   "source": [
    "#Write a Python program to find the length of the my_str using loop:-\n",
    "\n",
    "#Input:- 'Write a Python program to find the length of the my_str'\n",
    "#Output:- 55\n",
    "count = 0\n",
    "for my_str in 'Write a Python program to find the length of the my_str':\n",
    "#     print(f' value={my_str}')\n",
    "    count += 1\n",
    "    \n",
    "print(f'String Length = {count}')\n"
   ]
  },
  {
   "cell_type": "code",
   "execution_count": 49,
   "metadata": {
    "colab": {},
    "colab_type": "code",
    "id": "bp6AcqTsdYxy"
   },
   "outputs": [
    {
     "name": "stdout",
     "output_type": "stream",
     "text": [
      "Total Number of p letter occurance = 9\n"
     ]
    }
   ],
   "source": [
    "#Write a Python program to find the total number of times letter 'p' is appeared in the below string using loop:-\n",
    "    \n",
    "#Input:- 'peter piper picked a peck of pickled peppers.\\n'\n",
    "#Output:- 9\n",
    "count = 0\n",
    "for my_str in 'peter piper picked a peck of pickled peppers.\\n':\n",
    "    if my_str == 'p':\n",
    "        count += 1\n",
    "print(f'Total Number of p letter occurance = {count}')\n",
    "\n"
   ]
  },
  {
   "cell_type": "code",
   "execution_count": 68,
   "metadata": {
    "colab": {},
    "colab_type": "code",
    "id": "xvxSBhTJdav1"
   },
   "outputs": [
    {
     "name": "stdout",
     "output_type": "stream",
     "text": [
      "Index = 0\n",
      "Index = 6\n",
      "Index = 8\n",
      "Index = 12\n",
      "Index = 21\n",
      "Index = 29\n",
      "Index = 37\n",
      "Index = 39\n",
      "Index = 40\n"
     ]
    }
   ],
   "source": [
    "#Write a Python Program, to print all the indexes of all occurences of letter 'p' appeared in the \n",
    "# string using loop:-\n",
    "    \n",
    "#Input:- 'peter piper picked a peck of pickled peppers.'\n",
    "#Output:- \n",
    "# 0\n",
    "# 6\n",
    "# 8\n",
    "# 12\n",
    "# 21\n",
    "# 29\n",
    "# 37\n",
    "# 39\n",
    "# 40\n",
    "\n",
    "my_str = 'peter piper picked a peck of pickled peppers.'\n",
    "for var in range(len(my_str)):\n",
    "#     print(f'index = {var}, value = {my_str[var]}')\n",
    "  if my_str[var] == 'p':\n",
    "        print(f'Index = {var}')\n"
   ]
  },
  {
   "cell_type": "code",
   "execution_count": 72,
   "metadata": {
    "colab": {},
    "colab_type": "code",
    "id": "79L_feMadbmw"
   },
   "outputs": [
    {
     "name": "stdout",
     "output_type": "stream",
     "text": [
      "['peter', 'piper', 'picked', 'a', 'peck', 'of', 'pickled', 'peppers']\n"
     ]
    }
   ],
   "source": [
    "#Write a python program to find below output using loop:-\n",
    "\n",
    "#Input:- 'peter piper picked a peck of pickled peppers.'\n",
    "#Output:- ['peter', 'piper', 'picked', 'a', 'peck', 'of', 'pickled', 'peppers']\n",
    "my_str = 'peter piper picked a peck of pickled peppers.'\n",
    "split_value = []\n",
    "tmp = ''\n",
    "for var in my_str:\n",
    "    if var == ' ' or my_str.rindex(var) == (len(my_str)-1):\n",
    "        split_value.append(tmp)\n",
    "        tmp = ''\n",
    "    else:\n",
    "        tmp += var\n",
    "print(split_value)\n",
    "        \n",
    "    "
   ]
  },
  {
   "cell_type": "code",
   "execution_count": 75,
   "metadata": {
    "colab": {},
    "colab_type": "code",
    "id": "vzs5AJ53deVS"
   },
   "outputs": [
    {
     "name": "stdout",
     "output_type": "stream",
     "text": [
      "['peppers', 'pickled', 'of', 'peck', 'a', 'picked', 'piper', 'peter']\n"
     ]
    }
   ],
   "source": [
    "#Write a python program to find below output using loop:-\n",
    "\n",
    "#Input:- 'peter piper picked a peck of pickled peppers.'\n",
    "#Output:- 'peppers pickled of peck a picked piper peter'\n",
    "\n",
    "my_str = 'peter piper picked a peck of pickled peppers.'\n",
    "split_value = []\n",
    "tmp = ''\n",
    "for var in my_str:\n",
    "    if var == ' ' or my_str.rindex(var) == (len(my_str)-1):\n",
    "        split_value.append(tmp)\n",
    "        tmp = ''\n",
    "    else:\n",
    "        tmp += var\n",
    "print(split_value[::-1])"
   ]
  },
  {
   "cell_type": "code",
   "execution_count": 117,
   "metadata": {
    "colab": {},
    "colab_type": "code",
    "id": "i-HP7DrCdhwS"
   },
   "outputs": [
    {
     "name": "stdout",
     "output_type": "stream",
     "text": [
      ".sreppep delkcip fo kcep a dekcip repip retep\n"
     ]
    }
   ],
   "source": [
    "#Write a python program to find below output using loop:-\n",
    "\n",
    "#Input:- 'peter piper picked a peck of pickled peppers.'\n",
    "#Output:- '.sreppep delkcip fo kcep a dekcip repip retep'\n",
    "\n",
    "my_str = 'peter piper picked a peck of pickled peppers.'\n",
    "# my_str1 = (''.join(reversed(my_str)))\n",
    "# print(my_str1)\n",
    "\n",
    "# stringlength=len(my_str) # calculate length of the list\n",
    "# slicedString=my_str[stringlength::-1] # slicing \n",
    "# print (slicedString) # print the reversed string\n",
    "\n",
    "\n",
    "for i in my_str:\n",
    "    pass\n",
    "print(my_str[::-1])\n",
    "\n",
    "    \n",
    "    \n",
    "\n"
   ]
  },
  {
   "cell_type": "code",
   "execution_count": 172,
   "metadata": {
    "colab": {},
    "colab_type": "code",
    "id": "3rt6p0ytdkq0"
   },
   "outputs": [
    {
     "name": "stdout",
     "output_type": "stream",
     "text": [
      "['peter', 'piper', 'picked', 'a', 'peck', 'of', 'pickled', 'peppers']\n",
      "retep repip dekcip a kcep fo delkcip sreppep "
     ]
    }
   ],
   "source": [
    "#Write a python program to find below output using loop:-\n",
    "\n",
    "#Input:- 'peter piper picked a peck of pickled peppers.'\n",
    "#Output:- 'retep repip dekcip a kcep fo delkcip sreppep'\n",
    "my_str = 'peter piper picked a peck of pickled peppers.'\n",
    "str_len = []\n",
    "str_val = ''\n",
    "for i in my_str:\n",
    "    if i == ' ' or i == '.':\n",
    "        str_len.append(str_val)\n",
    "        str_val = ''\n",
    "    else:\n",
    "        str_val += i\n",
    "print(str_len)\n",
    "for j in str_len:\n",
    "    str_len1 = j[::-1]\n",
    "    print(str_len1, end = ' ')\n",
    "    "
   ]
  },
  {
   "cell_type": "code",
   "execution_count": 163,
   "metadata": {
    "colab": {},
    "colab_type": "code",
    "id": "HdlAWgT2dnKO"
   },
   "outputs": [
    {
     "name": "stdout",
     "output_type": "stream",
     "text": [
      " Peter Piper Picked A Peck Of Pickled Peppers\n"
     ]
    }
   ],
   "source": [
    "#Write a python program to find below output using loop:-\n",
    "\n",
    "#Input:- 'peter piper picked a peck of pickled peppers.'\n",
    "#Output:- 'Peter Piper Picked A Peck Of Pickled Peppers'\n",
    "\n",
    "my_str = 'peter piper picked a peck of pickled peppers.'\n",
    "out_lst = []\n",
    "out_str = ''\n",
    "for i in my_str:\n",
    "    if i == ' ' or i == '.':\n",
    "        out_str = chr(ord(out_str[0])-32) + out_str[1:]\n",
    "        out_lst.append(out_str)\n",
    "        out_str = ''\n",
    "    else:\n",
    "        out_str += i\n",
    "res_str = ''\n",
    "for j in out_lst:\n",
    "    res_str = res_str + ' ' + j\n",
    "print(res_str)\n"
   ]
  },
  {
   "cell_type": "code",
   "execution_count": 173,
   "metadata": {
    "colab": {},
    "colab_type": "code",
    "id": "OthUuacodrNl"
   },
   "outputs": [
    {
     "name": "stdout",
     "output_type": "stream",
     "text": [
      " peter piper picked a peck of pickled peppers\n"
     ]
    }
   ],
   "source": [
    "#Write a python program to find below output using loop:-\n",
    "\n",
    "#Input:- 'Peter Piper Picked A Peck Of Pickled Peppers.'\n",
    "#Output:- 'Peter piper picked a peck of pickled peppers'\n",
    "# print(ord('p'))\n",
    "# print(ord('P'))\n",
    "\n",
    "my_str = 'Peter Piper Picked A Peck Of Pickled Peppers.'\n",
    "out_lst = []\n",
    "out_str = ''\n",
    "for i in my_str:\n",
    "    if i == ' ' or i == '.':\n",
    "        out_str = chr(ord(out_str[0])+32) + out_str[1:]\n",
    "        out_lst.append(out_str)\n",
    "        out_str = ''\n",
    "    else:\n",
    "        out_str += i\n",
    "res_str = ''\n",
    "for j in out_lst:\n",
    "    res_str = res_str + ' ' + j\n",
    "print(res_str)"
   ]
  },
  {
   "cell_type": "code",
   "execution_count": 25,
   "metadata": {
    "colab": {
     "base_uri": "https://localhost:8080/",
     "height": 34
    },
    "colab_type": "code",
    "id": "scmDJE-ldsI9",
    "outputId": "4b1d1979-9f4a-4bc6-c505-b88b1bbd4d5d"
   },
   "outputs": [
    {
     "name": "stdout",
     "output_type": "stream",
     "text": [
      "45\n",
      "29\n"
     ]
    }
   ],
   "source": [
    "#Write a python program to implement index method using loop. If sub_str is found in my_str then \n",
    "# it will print the index of first occurrence of first character of matching string in my_str:-\n",
    "\n",
    "#Input:- my_str = 'Peter Piper Picked A Peck Of Pickled Peppers.', sub_str = 'Pickl'\n",
    "#Output:- 29\n",
    "\n",
    "my_str = 'Peter Piper Picked A Peck Of Pickled Peppers.' \n",
    "# print(len(my_str))\n",
    "sub_str = 'Pickl'\n",
    "j = 0\n",
    "new_str = ''\n",
    "for i in range(len(my_str)):\n",
    "    if my_str[i] == sub_str[j]:\n",
    "        new_str += my_str[i]\n",
    "        j += 1\n",
    "        if len(new_str) == len(sub_str) and new_str == sub_str:\n",
    "            print(i-len(sub_str)+1)\n",
    "            break\n",
    "    elif i == (len(my_str)-1):\n",
    "        print('String is not found')\n",
    "    else:\n",
    "        new_str = ''\n",
    "        j = 0\n"
   ]
  },
  {
   "cell_type": "code",
   "execution_count": 43,
   "metadata": {
    "colab": {},
    "colab_type": "code",
    "id": "Kq_fwdb_dvYE",
    "scrolled": true
   },
   "outputs": [
    {
     "name": "stdout",
     "output_type": "stream",
     "text": [
      "Peck String is found\n",
      "Peter Piper Picked A Pack Of Pickled Peppers.\n"
     ]
    }
   ],
   "source": [
    "#Write a python program to implement replace method using loop. If sub_str is found in my_str then \n",
    "# it will replace the first occurrence of sub_str with new_str else it will print sub_str not found:-\n",
    "\n",
    "#Input:- my_str = 'Peter Piper Picked A Peck Of Pickled Peppers.', sub_str = 'Peck', new_str = 'Pack'\n",
    "#Output:- 'Peter Piper Picked A Pack Of Pickled Peppers.'\n",
    "\n",
    "my_str = 'Peter Piper Picked A Peck Of Pickled Peppers.' \n",
    "# print(len(my_str))\n",
    "sub_str = 'Peck'\n",
    "j = 0\n",
    "new_str = ''\n",
    "new_str1 = 'Pack'\n",
    "for i in range(len(my_str)):\n",
    "    if my_str[i] == sub_str[j]:\n",
    "        new_str += my_str[i]\n",
    "        j += 1\n",
    "        if len(new_str) == len(sub_str) and new_str == sub_str:\n",
    "            print(f'{sub_str} String is found')\n",
    "            new_str2 = my_str.replace(sub_str, new_str1)\n",
    "            print(new_str2)\n",
    "            break\n",
    "    elif i == (len(my_str)-1):\n",
    "        print('String is not found')\n",
    "    else:\n",
    "        new_str = ''\n",
    "        j = 0"
   ]
  },
  {
   "cell_type": "code",
   "execution_count": 48,
   "metadata": {
    "colab": {},
    "colab_type": "code",
    "id": "4Qes5D0cdyd1"
   },
   "outputs": [
    {
     "name": "stdout",
     "output_type": "stream",
     "text": [
      "21\n",
      "Peck String is found\n",
      "****************Peck*********************\n"
     ]
    }
   ],
   "source": [
    "#Write a python program to find below output (implements rjust and ljust) using loop:-\n",
    "\n",
    "#Input:- 'Peter Piper Picked A Peck Of Pickled Peppers.', sub_str = 'Peck', \n",
    "#Output:- '*********************Peck********************'\n",
    "\n",
    "my_str = 'Peter Piper Picked A Peck Of Pickled Peppers.' \n",
    "# print(len(my_str))\n",
    "sub_str = 'Peck'\n",
    "j = 0\n",
    "new_str = ''\n",
    "for i in range(len(my_str)):\n",
    "    if my_str[i] == sub_str[j]:\n",
    "        new_str += my_str[i]\n",
    "        j += 1\n",
    "        if len(new_str) == len(sub_str) and new_str == sub_str:\n",
    "            print(i-len(sub_str)+1)\n",
    "            print(f'{sub_str} String is found')\n",
    "            print(sub_str.rjust((my_str.find(sub_str)-1), '*').ljust(len(my_str)-len(sub_str), '*'))\n",
    "            break\n",
    "    elif i == (len(my_str)-1):\n",
    "        print('String is not found')\n",
    "    else:\n",
    "        new_str = ''\n",
    "        j = 0\n",
    "\n"
   ]
  },
  {
   "cell_type": "code",
   "execution_count": 49,
   "metadata": {
    "colab": {},
    "colab_type": "code",
    "id": "DsOrb07Od0lR"
   },
   "outputs": [
    {
     "name": "stdout",
     "output_type": "stream",
     "text": [
      "['This', ' is', ' Python class']\n"
     ]
    }
   ],
   "source": [
    "#Write a python program to find below output using loop:-\n",
    "\n",
    "#Input:- 'This is Python class', sep = 'is', \n",
    "#Output:- ['This', 'is', 'Python class']\n",
    "\n",
    "my_str='This is Python class'\n",
    "sep_str=' is'\n",
    "out_str=''\n",
    "out_lst=[]\n",
    "i=0\n",
    "x=True\n",
    "# print(my_str.partition(' is '))\n",
    "while i in range(0,(len(my_str)),1):\n",
    "    if my_str[i]==' ' and x==True and i<=(len(my_str)):\n",
    "        out_lst.append(out_str)\n",
    "        out_str=''\n",
    "    if my_str[i:(i+len(sep_str)):1]==sep_str:  \n",
    "            out_lst.append(sep_str)\n",
    "            out_str=''  \n",
    "            i = i+(len(sep_str))\n",
    "            x=False\n",
    "    if i ==(len(my_str)):\n",
    "        out_lst.append(out_str)\n",
    "    else: \n",
    "        out_str=out_str+my_str[i]    \n",
    "    i=i+1\n",
    "out_lst.append(out_str)\n",
    "print(out_lst) \n",
    "\n",
    "\n"
   ]
  },
  {
   "cell_type": "code",
   "execution_count": 20,
   "metadata": {
    "colab": {},
    "colab_type": "code",
    "id": "jRnBVufmd2Ay"
   },
   "outputs": [
    {
     "name": "stdout",
     "output_type": "stream",
     "text": [
      "R{vjqp\n",
      "Rwvfql\n",
      "R{vfml\n"
     ]
    }
   ],
   "source": [
    "#Write a python program which takes one input string from user and encode it in below format:-\n",
    "    # 1. #Input:- 'Python'\n",
    "       #Output:- 'R{vjqp'\n",
    "\n",
    "# 'Python'   -> 80 121 116 104 111 110\n",
    "# 'R{vjqp'   -> 82 123 118 106 113 112\n",
    "        \n",
    "s = 'Python'\n",
    "out_str = ''\n",
    "for i in s:\n",
    "    out_str = out_str + chr(ord(i) + 2)\n",
    "print(out_str)\n",
    "      \n",
    "\n",
    "    # 2. #Input:- 'Python'\n",
    "       #Output:- 'Rwvfql'\n",
    "\n",
    "# print(ord('l'))\n",
    "# 'Python'   -> 80 121 116 104 111 110\n",
    "# 'Rwvfql'   -> 82 119 118 102 113 108\n",
    "        \n",
    "s1 = 'Python'\n",
    "out_str1 = ''\n",
    "count = 2\n",
    "for j in s1:\n",
    "    if count%2 == 0:\n",
    "        out_str1 = out_str1 + chr(ord(j) + 2)\n",
    "    else:\n",
    "        out_str1 = out_str1 + chr(ord(j) - 2)\n",
    "    count = count+1\n",
    "print(out_str1)      \n",
    "        \n",
    "        \n",
    "        \n",
    "    # 3. #Input:- 'Python'\n",
    "       #Output:- 'R{vfml'\n",
    "\n",
    "# print(ord('m'))\n",
    "# 'Python'   -> 80 121 116 104 111 110\n",
    "# 'Rwvfml'   -> 82 123 118 102 109 108\n",
    "\n",
    "s2 = 'Python'\n",
    "out_str2 = ''\n",
    "count1 = 1\n",
    "for k in s2:\n",
    "    if count1<=3:\n",
    "        out_str2 = out_str2 + chr(ord(k) + 2)\n",
    "    else:\n",
    "        out_str2 = out_str2 + chr(ord(k) - 2)\n",
    "    count1 = count1+1\n",
    "print(out_str2)      \n",
    "        \n"
   ]
  }
 ],
 "metadata": {
  "colab": {
   "name": "Conditional_and_loop_assignment.ipynb",
   "provenance": []
  },
  "kernelspec": {
   "display_name": "Python 3",
   "language": "python",
   "name": "python3"
  },
  "language_info": {
   "codemirror_mode": {
    "name": "ipython",
    "version": 3
   },
   "file_extension": ".py",
   "mimetype": "text/x-python",
   "name": "python",
   "nbconvert_exporter": "python",
   "pygments_lexer": "ipython3",
   "version": "3.7.6"
  }
 },
 "nbformat": 4,
 "nbformat_minor": 1
}
